{
 "cells": [
  {
   "cell_type": "code",
   "execution_count": 26,
   "metadata": {},
   "outputs": [
    {
     "name": "stdout",
     "output_type": "stream",
     "text": [
      "Error occurred reading the response: 'lat'\n"
     ]
    },
    {
     "data": {
      "application/vnd.jupyter.widget-view+json": {
       "model_id": "a0574723a1bf4bd4830100c0dbc011f5",
       "version_major": 2,
       "version_minor": 0
      },
      "text/plain": [
       "Button(description='Strunino', style=ButtonStyle())"
      ]
     },
     "metadata": {},
     "output_type": "display_data"
    },
    {
     "data": {
      "application/vnd.jupyter.widget-view+json": {
       "model_id": "08d21449c88d4987959c842b4b751936",
       "version_major": 2,
       "version_minor": 0
      },
      "text/plain": [
       "Button(description='Freudenstadt', style=ButtonStyle())"
      ]
     },
     "metadata": {},
     "output_type": "display_data"
    },
    {
     "data": {
      "application/vnd.jupyter.widget-view+json": {
       "model_id": "7b671e6d92ed48c38fc8997807d088fe",
       "version_major": 2,
       "version_minor": 0
      },
      "text/plain": [
       "Button(description='Turbo', style=ButtonStyle())"
      ]
     },
     "metadata": {},
     "output_type": "display_data"
    },
    {
     "data": {
      "application/vnd.jupyter.widget-view+json": {
       "model_id": "c1b9100d5d6c4c80a8039c31dfd87878",
       "version_major": 2,
       "version_minor": 0
      },
      "text/plain": [
       "Button(description='Bordeaux', style=ButtonStyle())"
      ]
     },
     "metadata": {},
     "output_type": "display_data"
    },
    {
     "data": {
      "application/vnd.jupyter.widget-view+json": {
       "model_id": "8102d5101db94c1e9d2908b459cc9ad0",
       "version_major": 2,
       "version_minor": 0
      },
      "text/plain": [
       "Button(description='Tyldesley', style=ButtonStyle())"
      ]
     },
     "metadata": {},
     "output_type": "display_data"
    },
    {
     "data": {
      "application/vnd.jupyter.widget-view+json": {
       "model_id": "eca2fc3207d04228bf3de6bd537b3305",
       "version_major": 2,
       "version_minor": 0
      },
      "text/plain": [
       "Button(description='Subcetate', style=ButtonStyle())"
      ]
     },
     "metadata": {},
     "output_type": "display_data"
    },
    {
     "data": {
      "application/vnd.jupyter.widget-view+json": {
       "model_id": "50e298d7012c4b879ed6b0e7cf044739",
       "version_major": 2,
       "version_minor": 0
      },
      "text/plain": [
       "Button(description='Delcevo', style=ButtonStyle())"
      ]
     },
     "metadata": {},
     "output_type": "display_data"
    },
    {
     "data": {
      "application/vnd.jupyter.widget-view+json": {
       "model_id": "b9f739192778475783982b3090a02c79",
       "version_major": 2,
       "version_minor": 0
      },
      "text/plain": [
       "Output()"
      ]
     },
     "metadata": {},
     "output_type": "display_data"
    }
   ],
   "source": [
    "\n",
    "# Libraries\n",
    "import os\n",
    "import re\n",
    "import json\n",
    "import folium\n",
    "import random\n",
    "import pandas as pd\n",
    "import numpy as np\n",
    "import matplotlib.pyplot as plt\n",
    "from geonamescache import GeonamesCache\n",
    "from urllib.request import urlopen\n",
    "from helpers.temp_converter import kelvinToCelsius\n",
    "from helpers.random_cities_generator import getRandomCities\n",
    "from jinja2 import Environment, FileSystemLoader\n",
    "from IPython.display import display, HTML, Javascript\n",
    "from ipywidgets import widgets\n",
    "\n",
    "# Ignore warnings\n",
    "import warnings\n",
    "warnings.filterwarnings('ignore')\n",
    "\n",
    "api_key = \"768d81e0c5c733e2a375488139b78bb0\"\n",
    "\n",
    "# Global variables to store the data\n",
    "cities = []\n",
    "selected_city = None\n",
    "\n",
    "# getting lat and lon of random city\n",
    "def getGeoResponse(city):\n",
    "    pattern = r\"^(?!.*\\s)[\\x00-\\x7F]+$\"\n",
    "    city_name = str(city)\n",
    "    if re.match(pattern, city_name):\n",
    "        baseGeoUrl = f\"http://api.openweathermap.org/geo/1.0/direct?q={city_name}&limit=1&appid={api_key}\"\n",
    "        try:\n",
    "            geoResponse = urlopen(baseGeoUrl)\n",
    "            return geoResponse\n",
    "        except Exception as e:\n",
    "            print(f\"error while opening url: {str(e)}\")\n",
    "            return None\n",
    "\n",
    "def getCitiesCoords(num_cities):\n",
    "    city_coords = []\n",
    "    cities = getRandomCities(num_cities)\n",
    "    for city in cities:\n",
    "        city_response = getGeoResponse(city)\n",
    "        if city_response is not None:\n",
    "            try:\n",
    "                city_dict = {}\n",
    "                city_orig = json.loads(city_response.read())\n",
    "                geo_df = pd.DataFrame(city_orig)\n",
    "                city_dict[\"lat\"] = geo_df.loc[0, \"lat\"]\n",
    "                city_dict[\"lon\"] = geo_df.loc[0, \"lon\"]\n",
    "                city_coords.append(city_dict)\n",
    "            except Exception as e:\n",
    "                print(f\"Error occurred reading the response: {str(e)}\")\n",
    "\n",
    "    return city_coords\n",
    "\n",
    "def getWeatherDataWithCoords(lat, lon):\n",
    "    url = f\"http://api.openweathermap.org/data/2.5/weather?lat={lat}&lon={lon}&appid={api_key}\"\n",
    "    # Send a request to the API and retrieve weather data for the coordinates\n",
    "    response = urlopen(url)\n",
    "    weather_data = json.loads(response.read())\n",
    "    # Check if a city name is available in the response\n",
    "    city_dict = {}\n",
    "    if \"name\" in weather_data:\n",
    "        city_dict[\"city_name\"] = weather_data[\"name\"]\n",
    "        city_dict[\"lat\"] = weather_data[\"coord\"][\"lat\"]\n",
    "        city_dict[\"lon\"] = weather_data[\"coord\"][\"lon\"]\n",
    "        city_dict[\"curr_temp\"] = kelvinToCelsius(weather_data[\"main\"][\"temp\"])\n",
    "        city_dict[\"max_temp\"] = kelvinToCelsius(weather_data[\"main\"][\"temp_max\"])\n",
    "        city_dict[\"min_temp\"] = kelvinToCelsius(weather_data[\"main\"][\"temp_min\"])\n",
    "        humidity = weather_data[\"main\"][\"humidity\"]\n",
    "        city_dict[\"humidity\"] = f\"{humidity}%\"\n",
    "        city_dict[\"sunrise\"] = pd.to_datetime(weather_data[\"sys\"][\"sunrise\"], unit=\"s\")\n",
    "        city_dict[\"sunset\"] = pd.to_datetime(weather_data[\"sys\"][\"sunset\"], unit=\"s\")\n",
    "\n",
    "    return city_dict\n",
    "\n",
    "def getCitiesWeatherData():\n",
    "    # trial and error mit der anzahl cities, gemäss docs gehen 60 calls/min mit dem free plan\n",
    "    city_coords = getCitiesCoords(10)\n",
    "    city_list = []\n",
    "    for city in city_coords:\n",
    "        lat = city[\"lat\"]\n",
    "        lon = city[\"lon\"]\n",
    "        city_data = getWeatherDataWithCoords(lat=lat, lon=lon)  # returns a dict\n",
    "        if len(city_data) > 0:\n",
    "            city_list.append(city_data)\n",
    "\n",
    "    return city_list\n",
    "\n",
    "def getForecastDataWithCoords(lat, lon):\n",
    "    url = f\"https://api.openweathermap.org/data/2.5/forecast?lat={lat}&lon={lon}&appid={api_key}\"\n",
    "    # Send a request to the API and retrieve forecast data for the coordinates\n",
    "    response = urlopen(url)\n",
    "    forecast_data = json.loads(response.read())\n",
    "    return forecast_data\n",
    "\n",
    "\n",
    "def getForecastData():\n",
    "    global cities\n",
    "    forecast_temperatures = []\n",
    "    for city in cities:\n",
    "        lat = city[\"Latitude\"]\n",
    "        lon = city[\"Longitude\"]\n",
    "        temperatures = getForecastDataWithCoords(lat=lat, lon=lon)\n",
    "        forecast_temperatures.append(temperatures)\n",
    "\n",
    "    return forecast_temperatures\n",
    "\n",
    "def show_current_weather(city_name):\n",
    "    city = next((c for c in cities if c[\"city_name\"] == city_name), None)\n",
    "    if city is not None:\n",
    "        curr_temp = city[\"curr_temp\"]\n",
    "        max_temp = city[\"max_temp\"]\n",
    "        min_temp = city[\"min_temp\"]\n",
    "        humidity = city[\"humidity\"]\n",
    "        sunrise = city[\"sunrise\"]\n",
    "        sunset = city[\"sunset\"]\n",
    "\n",
    "        # Create a DataFrame for the current weather information\n",
    "        data = {\n",
    "            \"Current Temperature\": [curr_temp],\n",
    "            \"Maximum Temperature\": [max_temp],\n",
    "            \"Minimum Temperature\": [min_temp],\n",
    "            \"Humidity\": [humidity],\n",
    "            \"Sunrise\": [sunrise],\n",
    "            \"Sunset\": [sunset]\n",
    "        }\n",
    "        df = pd.DataFrame(data)\n",
    "\n",
    "        # Display the DataFrame\n",
    "        display(df)\n",
    "\n",
    "def show_graph(city_name):\n",
    "    # Clear the current figure\n",
    "    plt.clf()\n",
    "\n",
    "    city = next((c for c in cities if c[\"city_name\"] == city_name), None)\n",
    "    if city is not None:\n",
    "        forecast_data = getForecastDataWithCoords(city[\"lat\"], city[\"lon\"])[\"list\"]\n",
    "\n",
    "        # Extract the temperatures and datetimes from the forecast data\n",
    "        temperatures = [data[\"main\"][\"temp\"] for data in forecast_data]\n",
    "        datetimes = [data[\"dt_txt\"] for data in forecast_data]\n",
    "\n",
    "        # Convert temperatures from Kelvin to Celsius\n",
    "        temperatures_celsius = [kelvinToCelsius(temp) for temp in temperatures]\n",
    "\n",
    "        # Filter datetimes to show only two per day\n",
    "        filtered_datetimes = []\n",
    "        prev_date = None\n",
    "        for dt in datetimes:\n",
    "            date = dt.split()[0]  # Extract date from datetime string\n",
    "            if date != prev_date:\n",
    "                filtered_datetimes.append(dt)\n",
    "                prev_date = date\n",
    "\n",
    "        label = f\"Temperature Forecast for {city_name}\"\n",
    "        x_label = \"Time\"\n",
    "        y_label = \"Temperature (Celsius)\"\n",
    "        x_values = list(range(len(temperatures_celsius)))  # Use index as x-values\n",
    "        plt.plot(x_values, temperatures_celsius, label=label)\n",
    "        plt.xlabel(x_label)\n",
    "        plt.ylabel(y_label)\n",
    "        plt.title(label)\n",
    "\n",
    "        # Set x-axis tick labels to show only two timestamps per day\n",
    "        num_datetimes = len(filtered_datetimes)\n",
    "        x_ticks = np.linspace(0, len(temperatures_celsius) - 1, num_datetimes, dtype=int)\n",
    "        plt.xticks(x_ticks, filtered_datetimes, rotation=45)\n",
    "\n",
    "        plt.legend()\n",
    "        plt.tight_layout()\n",
    "        plt.show()\n",
    "\n",
    "def display_buttons():\n",
    "    global cities  # Declare cities as a global variable\n",
    "\n",
    "    buttons = []\n",
    "    # Call the function to retrieve weather data for cities\n",
    "    cities = getCitiesWeatherData()\n",
    "\n",
    "    # Define the callback function for the button's click event\n",
    "    def button_clicked(button):\n",
    "        city_name = button.description\n",
    "        output.clear_output()  # Clear previous graph and weather information\n",
    "        with output:\n",
    "            show_graph(city_name)\n",
    "            show_current_weather(city_name)\n",
    "\n",
    "    # Create a button for each city and register the callback function\n",
    "    for city in cities:\n",
    "        city_name = city[\"city_name\"]\n",
    "        button = widgets.Button(description=city_name)\n",
    "        button.on_click(button_clicked)\n",
    "        buttons.append(button)\n",
    "\n",
    "    # Create output widget\n",
    "    output = widgets.Output()\n",
    "\n",
    "    # Display the buttons and output widget\n",
    "    display(*buttons)\n",
    "    display(output)\n",
    "\n",
    "# Call the function to display buttons\n",
    "display_buttons()"
   ]
  },
  {
   "cell_type": "code",
   "execution_count": 15,
   "metadata": {
    "scrolled": true
   },
   "outputs": [],
   "source": []
  },
  {
   "cell_type": "code",
   "execution_count": null,
   "metadata": {},
   "outputs": [],
   "source": []
  }
 ],
 "metadata": {
  "kernelspec": {
   "display_name": "Python 3 (ipykernel)",
   "language": "python",
   "name": "python3"
  },
  "language_info": {
   "codemirror_mode": {
    "name": "ipython",
    "version": 3
   },
   "file_extension": ".py",
   "mimetype": "text/x-python",
   "name": "python",
   "nbconvert_exporter": "python",
   "pygments_lexer": "ipython3",
   "version": "3.9.12"
  }
 },
 "nbformat": 4,
 "nbformat_minor": 2
}
